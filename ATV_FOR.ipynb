{
  "nbformat": 4,
  "nbformat_minor": 0,
  "metadata": {
    "colab": {
      "provenance": []
    },
    "kernelspec": {
      "name": "python3",
      "display_name": "Python 3"
    },
    "language_info": {
      "name": "python"
    }
  },
  "cells": [
    {
      "cell_type": "code",
      "source": [
        "#1) Faça um programa que imprima na tela apenas os números ímpares entre 1 e 50.\n",
        "for a in range(1, 51, 2):\n",
        "    print(a)"
      ],
      "metadata": {
        "colab": {
          "base_uri": "https://localhost:8080/"
        },
        "id": "jVbYW9OYiPA4",
        "outputId": "8a305e27-7c14-4a74-f812-6d363d953932"
      },
      "execution_count": null,
      "outputs": [
        {
          "output_type": "stream",
          "name": "stdout",
          "text": [
            "1\n",
            "3\n",
            "5\n",
            "7\n",
            "9\n",
            "11\n",
            "13\n",
            "15\n",
            "17\n",
            "19\n",
            "21\n",
            "23\n",
            "25\n",
            "27\n",
            "29\n",
            "31\n",
            "33\n",
            "35\n",
            "37\n",
            "39\n",
            "41\n",
            "43\n",
            "45\n",
            "47\n",
            "49\n"
          ]
        }
      ]
    },
    {
      "cell_type": "code",
      "source": [
        "#2) Faça um programa que exiba em tela os números abaixo:\n",
        "for b in range(1, 41, 3):\n",
        "    print(b)"
      ],
      "metadata": {
        "colab": {
          "base_uri": "https://localhost:8080/"
        },
        "id": "hojUTZLLipaI",
        "outputId": "b2cdc3c3-cb8c-44e9-9ae4-ac5033165e56"
      },
      "execution_count": null,
      "outputs": [
        {
          "output_type": "stream",
          "name": "stdout",
          "text": [
            "1\n",
            "4\n",
            "7\n",
            "10\n",
            "13\n",
            "16\n",
            "19\n",
            "22\n",
            "25\n",
            "28\n",
            "31\n",
            "34\n",
            "37\n",
            "40\n"
          ]
        }
      ]
    },
    {
      "cell_type": "code",
      "source": [
        "#3) Faça um programa que exiba os números pares de 0 a 30 com exceção dos números 10, 20 e 30.\n",
        "for c in range(0, 31, 2):\n",
        "    if c not in [10, 20, 30]:\n",
        "        print(c)"
      ],
      "metadata": {
        "id": "4ETnnlTni5Xh",
        "outputId": "49e4beac-ead9-4661-eb1a-78fd78637002",
        "colab": {
          "base_uri": "https://localhost:8080/"
        }
      },
      "execution_count": null,
      "outputs": [
        {
          "output_type": "stream",
          "name": "stdout",
          "text": [
            "0\n",
            "2\n",
            "4\n",
            "6\n",
            "8\n",
            "12\n",
            "14\n",
            "16\n",
            "18\n",
            "22\n",
            "24\n",
            "26\n",
            "28\n"
          ]
        }
      ]
    }
  ]
}